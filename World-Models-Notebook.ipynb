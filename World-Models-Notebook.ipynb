{
 "cells": [
  {
   "cell_type": "markdown",
   "metadata": {},
   "source": [
    "# World Models\n",
    "\n",
    "### 1. V-Model\n",
    "\n",
    "### 2. M-Model\n",
    "\n",
    "### 3. C-Model\n",
    "\n"
   ]
  },
  {
   "cell_type": "code",
   "execution_count": 1,
   "metadata": {},
   "outputs": [],
   "source": [
    "import gym\n",
    "from gym.spaces import Box\n",
    "import numpy as np\n",
    "\n",
    "try:\n",
    "    import cv2\n",
    "except ImportError:\n",
    "    cv2 = None"
   ]
  },
  {
   "cell_type": "code",
   "execution_count": 2,
   "metadata": {},
   "outputs": [],
   "source": [
    "# bring observation in desired shape and scale observation between 0 and 1\n",
    "class MaxAndSkipEnv(gym.Wrapper):\n",
    "    def __init__(self, env, skip=4):\n",
    "        \"\"\"Return only every `skip`-th frame\"\"\"\n",
    "        gym.Wrapper.__init__(self, env)\n",
    "        # most recent raw observations (for max pooling across time steps)\n",
    "        self._obs_buffer = np.zeros((2,)+env.observation_space.shape, dtype=np.uint8)\n",
    "        self._skip       = skip\n",
    "\n",
    "    def step(self, action):\n",
    "        \"\"\"Repeat action, sum reward, and max over last observations.\"\"\"\n",
    "        total_reward = 0.0\n",
    "        done = None\n",
    "        for i in range(self._skip):\n",
    "            obs, reward, done, info = self.env.step(action)\n",
    "            if i == self._skip - 2: self._obs_buffer[0] = obs\n",
    "            if i == self._skip - 1: self._obs_buffer[1] = obs\n",
    "            total_reward += reward\n",
    "            if done:\n",
    "                break\n",
    "        # Note that the observation on the done=True frame\n",
    "        # doesn't matter\n",
    "        max_frame = self._obs_buffer.max(axis=0)\n",
    "\n",
    "        return max_frame, total_reward, done, info\n",
    "\n",
    "    def reset(self, **kwargs):\n",
    "        return self.env.reset(**kwargs)\n",
    "class ObservationWrapper(gym.Wrapper):\n",
    "    def __init__(self, env, image_size=(64,64,3), scale_obs=True):\n",
    "        super().__init__(env)\n",
    "        self.shape = image_size\n",
    "        self.screen_size = image_size[0]\n",
    "        self.scale_obs = scale_obs\n",
    "        _low, _high, _obs_dtype = (0, 255, np.uint8) if not scale_obs else (0, 1, np.float32)\n",
    "        self.observation_space = Box(low=_low, high=_high, shape=image_size, dtype=_obs_dtype)\n",
    "        \n",
    "    def step(self, action):\n",
    "        obs, reward, done, info = self.env.step(action)\n",
    "        return self._get_obs(obs), reward, done, info\n",
    "    \n",
    "    def reset(self):\n",
    "        obs = self.env.reset()\n",
    "        return self._get_obs(obs)\n",
    "        \n",
    "    \n",
    "    def _get_obs(self, obs):\n",
    "\n",
    "        obs = cv2.resize(obs, (self.screen_size, self.screen_size))#, interpolation=cv2.INTER_AREA)\n",
    "\n",
    "        if self.scale_obs:\n",
    "            obs = np.asarray(obs, dtype=np.float32) / 255.0\n",
    "        return obs\n",
    "    \n",
    "class PytorchWrapper(gym.Wrapper):\n",
    "    def __init__(self, env):\n",
    "        super().__init__(env)\n",
    "        \n",
    "    def step(self, action):\n",
    "        obs, reward, done, info = self.env.step(action)\n",
    "        obs = torch.from_numpy(obs).reshape((3,64,64)).unsqueeze(0)\n",
    "        return obs, reward, done, info\n",
    "    \n",
    "    def reset(self):\n",
    "        obs = self.env.reset()\n",
    "        obs = torch.from_numpy(obs).reshape((3,64,64)).unsqueeze(0)\n",
    "        return obs\n",
    "        \n",
    "        "
   ]
  },
  {
   "cell_type": "code",
   "execution_count": 3,
   "metadata": {},
   "outputs": [],
   "source": [
    "import torch\n",
    "import torch.nn as nn\n",
    "import torch.nn.functional as F\n",
    "import torch.optim as optim\n",
    "from torch.nn.utils import clip_grad_norm_\n",
    "from torch.utils.data import TensorDataset, DataLoader\n",
    "from torch.distributions import Normal\n",
    "\n",
    "import matplotlib.pyplot as plt"
   ]
  },
  {
   "cell_type": "markdown",
   "metadata": {},
   "source": [
    "# V-Model"
   ]
  },
  {
   "cell_type": "code",
   "execution_count": 4,
   "metadata": {},
   "outputs": [],
   "source": [
    "class VAE():\n",
    "    def __init__(self, state_size, latent_size_N=32, device=\"cpu\"):\n",
    "              \n",
    "        self.encoder = Encoder(state_size, latent_size_N).to(device)\n",
    "        self.decoder = Decoder(state_size, latent_size_N).to(device)\n",
    "        self.device = device\n",
    "        \n",
    "        self.params = list(self.encoder.parameters()) + list(self.decoder.parameters())\n",
    "        self.optimizer = optim.Adam(params=self.params, lr=0.001)\n",
    "        #self.optimizer_decoder = optim.Adam(params=self.decoder.parameters(), lr=0.0001)\n",
    "        \n",
    "    def forward(self, image: torch.Tensor)-> torch.Tensor:\n",
    "        \n",
    "        assert image.shape == (image.shape[0] ,3, 64, 64), \"Input Image as wrong shape!\"\n",
    "        mu, sig = self.encoder(image)\n",
    "        encoded = self.sample(mu, sig)\n",
    "        \n",
    "        decoded = self.decoder(encoded)\n",
    "        return decoded, (mu, sig)\n",
    "    \n",
    "    def encode_state(self, image: torch.Tensor)-> torch.Tensor:\n",
    "        assert image.shape == (image.shape[0], 3, 64, 64), \"Input Image as wrong shape!\"\n",
    "        (mu, logsig) = self.encoder(image)\n",
    "        encoded = self.sample(mu, logsig)\n",
    "        return encoded\n",
    "    \n",
    "    def sample(self, mu, logsig):\n",
    "            \n",
    "        #dist = Normal(mu, sig) \n",
    "        #latent_vector_z = dist.sample()\n",
    "        \n",
    "        # in the paper they had different sample methods this one and mu + sig *N(0,1)\n",
    "        #latent_vector_z = mu + sig * torch.normal(torch.zeros(1), torch.ones(1)).to(device)\n",
    "        \n",
    "        \n",
    "        sigma = logsig.exp()\n",
    "        eps = torch.randn_like(sigma)     \n",
    "        return eps.mul(sigma).add_(mu)\n",
    "        \n",
    "    def train(self, dataloader:DataLoader)-> torch.Tensor:\n",
    "        losses = {\"loss1\": [], \"loss2\": []}\n",
    "        for idx, sample in enumerate(dataloader):\n",
    "            \n",
    "            image_batch = sample[0].to(device)\n",
    "            reconstructed, (mu, sig) = self.forward(image_batch)\n",
    "            \n",
    "            loss_1 = kl_loss(mu, sig)\n",
    "            loss_2 = l2_dist_loss(reconstructed, image_batch)\n",
    "            \n",
    "            self.optimizer.zero_grad()\n",
    "            loss = (loss_1 + loss_2).mean()\n",
    "            \n",
    "            loss.backward()\n",
    "            #clip_grad_norm_(self.params, 10.)\n",
    "            self.optimizer.step()\n",
    "            losses[\"loss1\"].append(loss_1.detach().cpu().numpy())\n",
    "            losses[\"loss2\"].append(loss_2.detach().cpu().numpy())\n",
    "        return np.mean(losses[\"loss1\"]),np.mean(losses[\"loss2\"]) \n",
    "            \n",
    "            \n",
    "\n",
    "def kl_loss(mu: torch.Tensor, sig:torch.Tensor)-> torch.Tensor:\n",
    "    #loss = - 0.5 * (1 + torch.log(sig).pow(2) - sig.pow(2) - mu.pow(2)).sum()\n",
    "    loss = -0.5 * torch.sum(1 + 2 * sig - mu.pow(2) - (2 * sig).exp())\n",
    "    return loss\n",
    "\n",
    "def l2_dist_loss(prediction:torch.Tensor, target:torch.Tensor)-> torch.Tensor:\n",
    "    #return - torch.dist(target,prediction, p=2)\n",
    "    return F.mse_loss(prediction, target, size_average=False)\n",
    "    #return F.binary_cross_entropy(prediction, target, size_average=False)\n",
    "        \n",
    "class Encoder(nn.Module):\n",
    "    def __init__(self, state_size, latent_size_N=32):\n",
    "        super(Encoder, self).__init__()\n",
    "        \n",
    "        self.conv1 = nn.Conv2d(in_channels=3, out_channels=32, kernel_size=4, stride=2)\n",
    "        self.conv2 = nn.Conv2d(in_channels=32, out_channels=64, kernel_size=4, stride=2)\n",
    "        self.conv3 = nn.Conv2d(in_channels=64, out_channels=128, kernel_size=4, stride=2)\n",
    "        self.conv4 = nn.Conv2d(in_channels=128, out_channels=256, kernel_size=4, stride=2)\n",
    "        self.output_mu = nn.Linear(1024, latent_size_N)\n",
    "        self.output_sig = nn.Linear(1024, latent_size_N)\n",
    "        #self.softplus = nn.Softplus() #use different activation?\n",
    "        \n",
    "    \n",
    "    def forward(self, img):\n",
    "        \n",
    "        x = torch.relu(self.conv1(img))\n",
    "        #print(x.shape)\n",
    "        x = torch.relu(self.conv2(x))\n",
    "        #print(x.shape)\n",
    "        x = torch.relu(self.conv3(x))\n",
    "        #print(x.shape)\n",
    "        x = torch.relu(self.conv4(x))\n",
    "        #print(x.shape)\n",
    "        \n",
    "        mu = self.output_mu(x.flatten(1)) #torch.tanh()\n",
    "        log_sig = self.output_sig(x.flatten(1))#self.softplus()\n",
    "        #sig = torch.sqrt(var)\n",
    "                    \n",
    "        return (mu, log_sig)\n",
    "\n",
    "        \n",
    "class Decoder(nn.Module):\n",
    "    def __init__(self, state_size, latent_size_N=32):\n",
    "        super(Decoder, self).__init__()\n",
    "        \n",
    "        self.in_linear = nn.Linear(32, 1024)\n",
    "        self.deconv1 = nn.ConvTranspose2d(in_channels=1024, out_channels=128, kernel_size=5, stride=2)\n",
    "        self.deconv2 = nn.ConvTranspose2d(in_channels=128, out_channels=64, kernel_size=5, stride=2)\n",
    "        self.deconv3 = nn.ConvTranspose2d(in_channels=64, out_channels=32, kernel_size=6, stride=2)\n",
    "        self.deconv4 = nn.ConvTranspose2d(in_channels=32, out_channels=3, kernel_size=6, stride=2)\n",
    "        \n",
    "    def forward(self, latent_vector):\n",
    "        \n",
    "        x = torch.relu(self.in_linear(latent_vector)).unsqueeze(-1).unsqueeze(-1)\n",
    "        x = torch.relu(self.deconv1(x))\n",
    "        #print(x.shape)\n",
    "        x = torch.relu(self.deconv2(x))\n",
    "        #print(x.shape)\n",
    "        x = torch.relu(self.deconv3(x))\n",
    "        #print(x.shape)\n",
    "        x = torch.sigmoid(self.deconv4(x))\n",
    "        #print(x.shape)\n",
    "        return x"
   ]
  },
  {
   "cell_type": "markdown",
   "metadata": {},
   "source": [
    "# Create Samples with random policy\n"
   ]
  },
  {
   "cell_type": "code",
   "execution_count": 5,
   "metadata": {},
   "outputs": [
    {
     "name": "stderr",
     "output_type": "stream",
     "text": [
      "/home/sebastian/anaconda3/lib/python3.7/site-packages/gym/logger.py:30: UserWarning: \u001b[33mWARN: Box bound precision lowered by casting to float32\u001b[0m\n",
      "  warnings.warn(colorize('%s: %s'%('WARN', msg % args), 'yellow'))\n"
     ]
    }
   ],
   "source": [
    "Episodes = 10\n",
    "env = gym.make(\"CarRacing-v0\")\n",
    "env = MaxAndSkipEnv(env)\n",
    "env = ObservationWrapper(env, image_size=(64,64,3), scale_obs=True)\n",
    "env = PytorchWrapper(env)\n",
    "state_size = env.observation_space.shape\n",
    "action_size = env.action_space.shape[0]"
   ]
  },
  {
   "cell_type": "code",
   "execution_count": 5,
   "metadata": {},
   "outputs": [
    {
     "name": "stderr",
     "output_type": "stream",
     "text": [
      "/home/sebastian/anaconda3/lib/python3.7/site-packages/gym/logger.py:30: UserWarning: \u001b[33mWARN: Box bound precision lowered by casting to float32\u001b[0m\n",
      "  warnings.warn(colorize('%s: %s'%('WARN', msg % args), 'yellow'))\n"
     ]
    },
    {
     "name": "stdout",
     "output_type": "stream",
     "text": [
      "Track generation: 1215..1523 -> 308-tiles track\n",
      "Ep: 0 | Sample size: 200\n",
      "Track generation: 1120..1404 -> 284-tiles track\n",
      "Ep: 1 | Sample size: 400\n",
      "Track generation: 1152..1445 -> 293-tiles track\n",
      "Ep: 2 | Sample size: 600\n",
      "Track generation: 1280..1604 -> 324-tiles track\n",
      "Ep: 3 | Sample size: 800\n",
      "Track generation: 1031..1293 -> 262-tiles track\n",
      "Ep: 4 | Sample size: 1000\n",
      "Track generation: 1271..1593 -> 322-tiles track\n",
      "Ep: 5 | Sample size: 1200\n",
      "Track generation: 1172..1469 -> 297-tiles track\n",
      "Ep: 6 | Sample size: 1400\n",
      "Track generation: 1172..1469 -> 297-tiles track\n",
      "Ep: 7 | Sample size: 1600\n",
      "Track generation: 1336..1675 -> 339-tiles track\n",
      "Ep: 8 | Sample size: 1800\n",
      "Track generation: 1144..1434 -> 290-tiles track\n",
      "Ep: 9 | Sample size: 2000\n"
     ]
    }
   ],
   "source": [
    "\n",
    "samples = {\"states\":[], \"actions\": [], \"rewards\": [], \"dones\":[]}\n",
    "\n",
    "for ep in range(Episodes):\n",
    "    done=False\n",
    "    state = env.reset()\n",
    "    step_count = 0 ## First ~50 steps is zooming to start position. not needed for training\n",
    "    while True:\n",
    "        action = env.action_space.sample()\n",
    "        state, reward, done, _ = env.step(action)\n",
    "        step_count += 1\n",
    "        \n",
    "        if step_count > 50:\n",
    "            samples[\"states\"].append(state)\n",
    "            samples[\"actions\"].append(action)\n",
    "            samples[\"rewards\"].append(reward)\n",
    "            samples[\"dones\"].append(done)\n",
    "        if done:\n",
    "            print(\"Ep: {} | Sample size: {}\".format(ep, len(samples[\"states\"])))\n",
    "            break\n",
    "        "
   ]
  },
  {
   "cell_type": "code",
   "execution_count": 6,
   "metadata": {
    "scrolled": true
   },
   "outputs": [
    {
     "data": {
      "text/plain": [
       "<matplotlib.image.AxesImage at 0x7f40f49e0b90>"
      ]
     },
     "execution_count": 6,
     "metadata": {},
     "output_type": "execute_result"
    },
    {
     "data": {
      "image/png": "[encoded data removed]",
      "text/plain": [
       "<Figure size 432x288 with 1 Axes>"
      ]
     },
     "metadata": {
      "needs_background": "light"
     },
     "output_type": "display_data"
    }
   ],
   "source": [
    "plt.imshow(samples[\"states\"][4].squeeze().reshape(64,64,3))"
   ]
  },
  {
   "cell_type": "markdown",
   "metadata": {},
   "source": [
    "# Create Dataset "
   ]
  },
  {
   "cell_type": "code",
   "execution_count": 7,
   "metadata": {},
   "outputs": [],
   "source": [
    "# Create Dataset of states\n",
    "set = torch.cat(samples[\"states\"], dim=0)\n",
    "dataset = TensorDataset(set)\n",
    "dataloader = DataLoader(dataset, batch_size=256, shuffle=True)"
   ]
  },
  {
   "cell_type": "code",
   "execution_count": 6,
   "metadata": {},
   "outputs": [
    {
     "name": "stdout",
     "output_type": "stream",
     "text": [
      "Using: cuda:0\n"
     ]
    }
   ],
   "source": [
    "device = torch.device(\"cuda:0\" if torch.cuda.is_available() else \"cpu\")\n",
    "#device = \"cpu\"\n",
    "V_model = VAE(state_size=(3, 64, 64), device=device)\n",
    "print(\"Using: {}\".format(device))"
   ]
  },
  {
   "cell_type": "code",
   "execution_count": 11,
   "metadata": {
    "scrolled": false
   },
   "outputs": [
    {
     "name": "stdout",
     "output_type": "stream",
     "text": [
      "Epoch: 0 | kl_loss: 71.90 | l2_loss: 169813.84 | combines loss: 169885.75\n",
      "Epoch: 10 | kl_loss: 21.05 | l2_loss: 28028.80 | combines loss: 28049.84\n",
      "Epoch: 20 | kl_loss: 32.07 | l2_loss: 25725.03 | combines loss: 25757.10\n",
      "Epoch: 30 | kl_loss: 55.31 | l2_loss: 24758.92 | combines loss: 24814.22\n",
      "Epoch: 40 | kl_loss: 696.14 | l2_loss: 20248.38 | combines loss: 20944.52\n",
      "Epoch: 50 | kl_loss: 681.27 | l2_loss: 16865.11 | combines loss: 17546.38\n",
      "Epoch: 60 | kl_loss: 836.19 | l2_loss: 14402.72 | combines loss: 15238.91\n",
      "Epoch: 70 | kl_loss: 1080.46 | l2_loss: 12009.75 | combines loss: 13090.21\n",
      "Epoch: 80 | kl_loss: 1121.50 | l2_loss: 10920.79 | combines loss: 12042.28\n",
      "Epoch: 90 | kl_loss: 1168.48 | l2_loss: 10220.07 | combines loss: 11388.54\n",
      "Epoch: 100 | kl_loss: 1433.07 | l2_loss: 9053.36 | combines loss: 10486.43\n",
      "Epoch: 110 | kl_loss: 1532.24 | l2_loss: 8559.24 | combines loss: 10091.48\n",
      "Epoch: 120 | kl_loss: 1603.85 | l2_loss: 8094.52 | combines loss: 9698.372\n",
      "Epoch: 130 | kl_loss: 1574.58 | l2_loss: 7632.38 | combines loss: 9206.96\n",
      "Epoch: 140 | kl_loss: 1636.20 | l2_loss: 7187.41 | combines loss: 8823.61\n",
      "Epoch: 149 | kl_loss: 1626.60 | l2_loss: 6946.83 | combines loss: 8573.43"
     ]
    }
   ],
   "source": [
    "Epochs = 150\n",
    "losses = {\"loss1\": [], \"loss2\": [], \"loss\": []}\n",
    "for i in range(Epochs):\n",
    "    loss1, loss2 = V_model.train(dataloader)\n",
    "    print(\"\\rEpoch: {} | kl_loss: {:.2f} | l2_loss: {:.2f} | combines loss: {:.2f}\".format(i, loss1, loss2, loss1+loss2), end=\"\", flush=True)\n",
    "    if i % 10 == 0:\n",
    "        print(\"\\rEpoch: {} | kl_loss: {:.2f} | l2_loss: {:.2f} | combines loss: {:.2f}\".format(i, loss1, loss2, loss1+loss2))\n",
    "        \n",
    "    losses[\"loss1\"].append(loss1)    \n",
    "    losses[\"loss2\"].append(loss2)    \n",
    "    losses[\"loss\"].append(loss1+loss2)"
   ]
  },
  {
   "cell_type": "code",
   "execution_count": 12,
   "metadata": {},
   "outputs": [
    {
     "data": {
      "text/plain": [
       "<function matplotlib.pyplot.show(close=None, block=None)>"
      ]
     },
     "execution_count": 12,
     "metadata": {},
     "output_type": "execute_result"
    },
    {
     "data": {
      "image/png": "[encoded data removed]",
      "text/plain": [
       "<Figure size 432x288 with 1 Axes>"
      ]
     },
     "metadata": {
      "needs_background": "light"
     },
     "output_type": "display_data"
    }
   ],
   "source": [
    "import matplotlib.pyplot as plt\n",
    "plt.plot(losses[\"loss1\"], label=\"KL loss\")\n",
    "plt.plot(losses[\"loss2\"], label=\"L2 loss\")\n",
    "plt.plot(losses[\"loss\"], label=\"Combined loss\")\n",
    "plt.legend()\n",
    "\n",
    "plt.show"
   ]
  },
  {
   "cell_type": "code",
   "execution_count": 13,
   "metadata": {},
   "outputs": [],
   "source": [
    "# safe / load state dict\n",
    "\n",
    "torch.save(V_model.encoder.state_dict(), \"Encoder.pth\")\n",
    "torch.save(V_model.decoder.state_dict(), \"Decoder.pth\")"
   ]
  },
  {
   "cell_type": "code",
   "execution_count": 7,
   "metadata": {},
   "outputs": [
    {
     "data": {
      "text/plain": [
       "<All keys matched successfully>"
      ]
     },
     "execution_count": 7,
     "metadata": {},
     "output_type": "execute_result"
    }
   ],
   "source": [
    "V_model.encoder.load_state_dict(torch.load(\"Encoder.pth\"))\n",
    "V_model.decoder.load_state_dict(torch.load(\"Decoder.pth\"))"
   ]
  },
  {
   "cell_type": "markdown",
   "metadata": {},
   "source": [
    "# Observe training results"
   ]
  },
  {
   "cell_type": "code",
   "execution_count": 16,
   "metadata": {
    "scrolled": true
   },
   "outputs": [
    {
     "name": "stdout",
     "output_type": "stream",
     "text": [
      "State number: 258\n"
     ]
    },
    {
     "data": {
      "text/plain": [
       "<matplotlib.image.AxesImage at 0x7f40f42eee10>"
      ]
     },
     "execution_count": 16,
     "metadata": {},
     "output_type": "execute_result"
    },
    {
     "data": {
      "image/png": "[encoded data removed]",
      "text/plain": [
       "<Figure size 432x288 with 1 Axes>"
      ]
     },
     "metadata": {
      "needs_background": "light"
     },
     "output_type": "display_data"
    }
   ],
   "source": [
    "len(samples[\"states\"])\n",
    "nr = np.random.randint(len(samples[\"states\"]))\n",
    "print(\"State number:\", nr)\n",
    "example_image = samples[\"states\"][nr]\n",
    "# select example image\n",
    "plt.imshow(example_image.squeeze().reshape(64,64,3))"
   ]
  },
  {
   "cell_type": "code",
   "execution_count": 17,
   "metadata": {},
   "outputs": [
    {
     "data": {
      "text/plain": [
       "<matplotlib.image.AxesImage at 0x7f40f4251d10>"
      ]
     },
     "execution_count": 17,
     "metadata": {},
     "output_type": "execute_result"
    },
    {
     "data": {
      "image/png": "[encoded data removed]",
      "text/plain": [
       "<Figure size 432x288 with 1 Axes>"
      ]
     },
     "metadata": {
      "needs_background": "light"
     },
     "output_type": "display_data"
    }
   ],
   "source": [
    "# view reconstructed image\n",
    "reconstr, _ = V_model.forward(example_image.to(device))\n",
    "plt.imshow(reconstr.detach().cpu().numpy().reshape(64,64,3))"
   ]
  },
  {
   "cell_type": "code",
   "execution_count": null,
   "metadata": {},
   "outputs": [],
   "source": []
  },
  {
   "cell_type": "markdown",
   "metadata": {},
   "source": [
    "# M-Model"
   ]
  },
  {
   "cell_type": "code",
   "execution_count": 80,
   "metadata": {},
   "outputs": [],
   "source": [
    "class MModel(nn.Module):\n",
    "    def __init__(self, action_size, latent_size=32, hidden_size=256, batch_size=64, n_gaussians=5, rnn_type=\"LSTM\"):\n",
    "        super(MModel, self).__init__()\n",
    "        \n",
    "        self.input_shape = action_size+latent_size\n",
    "        self.action_size = action_size\n",
    "        self.latent_size = latent_size\n",
    "        self.n_gaussians = n_gaussians\n",
    "        self.batch_size = batch_size\n",
    "        \n",
    "        if rnn_type == \"LSTM\":\n",
    "            self.rnn_layer = nn.LSTM(self.input_shape, hidden_size, batch_first=True)\n",
    "        elif rnn_type == \"GRU\":\n",
    "            self.rnn_layer = nn.GRU(self.input_shape, hidden_size, batch_first=True)\n",
    "            \n",
    "        self.pi_layer = nn.Linear(hidden_size, n_gaussians*latent_size)\n",
    "        self.mu_layer = nn.Linear(hidden_size, n_gaussians*latent_size)\n",
    "        self.sig_layer = nn.Linear(hidden_size, n_gaussians*latent_size)\n",
    "        \n",
    "        \n",
    "    def forward(self, latent_vector: torch.Tensor, action:torch.Tensor, hidden_state=None)-> torch.Tensor:\n",
    "        \"\"\" Simple forward pass with the RNN \"\"\"\n",
    "        \n",
    "        assert latent_vector.shape == (latent_vector.shape[0], self.latent_size), \"Latent vector has the wrong shape!\"\n",
    "        assert action.shape == (action.shape[0], self.action_size), \"Action batch has the wrong shape!\"\n",
    "        \n",
    "        input_tensor = torch.cat((latent_vector, action),dim=1).unsqueeze(1)\n",
    "        assert input_tensor.shape == (action.shape[0], 1, self.input_shape), \"input_tensor has wrong shape!\"\n",
    "        \n",
    "        output, hidden_state = self.rnn_layer(input_tensor, hidden_state)\n",
    "        \n",
    "        (pi, mu, sigma) = self.get_gauss_coeffs(output)\n",
    "        return (pi, mu, sigma), hidden_state\n",
    "    \n",
    "    \n",
    "    def get_gauss_coeffs(self, y:torch.Tensor):\n",
    "        \n",
    "        rollout_length = y.size(1)\n",
    "        \n",
    "        pi = self.pi_layer(y)\n",
    "        mu = self.mu_layer(y)\n",
    "        sigma = self.sig_layer(y)\n",
    "        \n",
    "        pi = pi.view(-1, rollout_length, self.n_gaussians, self.latent_size)\n",
    "        mu = mu.view(-1, rollout_length, self.n_gaussians, self.latent_size)\n",
    "        sigma = sigma.view(-1, rollout_length, self.n_gaussians, self.latent_size)\n",
    "        \n",
    "        pi = F.softmax(pi, 2)\n",
    "        sigma = torch.exp(sigma)\n",
    "        return pi, mu, sigma\n",
    "    \n",
    "    def predict_next_z(self,latent_vector: torch.Tensor, action:torch.Tensor, tau: float, hidden_state=None)-> torch.Tensor:\n",
    "        \"\"\" Predicts the next Latent Vector Z \"\"\"\n",
    "        values, hidden_state = self.forward(latent_vector, action, hidden_state)\n",
    "        mu, sigma = values[1], values[2]\n",
    "        \n",
    "        dist = Normal(mu, sigma*tau)\n",
    "        z_ = dist.sample().mean(2)\n",
    "        \n",
    "        #prediction = [torch.normal(mu, sigma)[:, :, i, :] for i in range(self.n_gaussians)]\n",
    "        return z_, hidden_state\n",
    "        \n",
    "# M-Model loss calculation\n",
    "def mdn_loss_fn(y, pi, mu, sigma):\n",
    "    m = Normal(loc=mu, scale=sigma)\n",
    "    loss = torch.exp(m.log_prob(y))\n",
    "    loss = torch.sum(loss * pi, dim=2)\n",
    "    loss = -torch.log(loss)\n",
    "    return loss.mean()\n",
    "\n",
    "\n",
    "def criterion(y, pi, mu, sigma):\n",
    "    y = y.unsqueeze(2)\n",
    "    return mdn_loss_fn(y, pi, mu, sigma)"
   ]
  },
  {
   "cell_type": "code",
   "execution_count": 83,
   "metadata": {},
   "outputs": [],
   "source": [
    "action_size = env.action_space.shape[0]\n",
    "m_model = MModel(action_size=action_size)"
   ]
  },
  {
   "cell_type": "code",
   "execution_count": 86,
   "metadata": {},
   "outputs": [],
   "source": [
    "M_optimizer = optim.Adam(params=m_model.parameters(), lr=0.001)\n"
   ]
  },
  {
   "cell_type": "code",
   "execution_count": null,
   "metadata": {},
   "outputs": [],
   "source": []
  },
  {
   "cell_type": "code",
   "execution_count": null,
   "metadata": {},
   "outputs": [],
   "source": []
  },
  {
   "cell_type": "code",
   "execution_count": 19,
   "metadata": {},
   "outputs": [
    {
     "ename": "NameError",
     "evalue": "name 'samples' is not defined",
     "output_type": "error",
     "traceback": [
      "\u001b[0;31m---------------------------------------------------------------------------\u001b[0m",
      "\u001b[0;31mNameError\u001b[0m                                 Traceback (most recent call last)",
      "\u001b[0;32m<ipython-input-19-51cddc16dce4>\u001b[0m in \u001b[0;36m<module>\u001b[0;34m\u001b[0m\n\u001b[0;32m----> 1\u001b[0;31m \u001b[0msamples\u001b[0m\u001b[0;34m\u001b[0m\u001b[0;34m\u001b[0m\u001b[0m\n\u001b[0m",
      "\u001b[0;31mNameError\u001b[0m: name 'samples' is not defined"
     ]
    }
   ],
   "source": []
  },
  {
   "cell_type": "markdown",
   "metadata": {},
   "source": [
    "# C-Model"
   ]
  },
  {
   "cell_type": "code",
   "execution_count": 8,
   "metadata": {},
   "outputs": [],
   "source": [
    "class C_Model(nn.Module):\n",
    "    def __init__(self, action_size, hidden_size=256, latent_size=32, device=\"cpu\"):\n",
    "        super(C_Model, self).__init__()\n",
    "        \n",
    "        self.device = device\n",
    "        self.action_size = action_size\n",
    "        \n",
    "        self.layer_1 = nn.Linear(latent_size*2, hidden_size)\n",
    "        self.layer_2 = nn.Linear(hidden_size, action_size)\n",
    "        \n",
    "        \n",
    "    def forward(self, latent_vector:torch.Tensor, hidden_state:torch.Tensor)-> torch.Tensor:\n",
    "        \"\"\"  \"\"\"\n",
    "        input_ = torch.cat((latent_vector, hidden_state), dim=1)\n",
    "        x = torch.relu(self.layer_1(input_))\n",
    "        x = torch.tanh(self.layer_2(x)) \n",
    "        # add var to prediction as well\n",
    "        return x\n",
    "    \n",
    "    def get_action(self, latent_vector:torch.Tensor, hidden_state:torch.Tensor)-> torch.Tensor:\n",
    "        \"\"\"  \"\"\"\n",
    "        mu = self.forward(latent_vector, hidden_state)\n",
    "        dist = Normal(mu, torch.ones(1).to(self.device))\n",
    "        action = dist.sample()\n",
    "        log_prob = dist.log_prob(action)\n",
    "        \n",
    "        return action, log_prob\n",
    "    \n",
    "\n",
    "def calc_discounted_rewards(rewards, final_state, gamma = 0.99):\n",
    "    R = 0\n",
    "    discounted = []\n",
    "  \n",
    "    for idx in reversed(range(len(rewards))):\n",
    "        R = rewards[idx]+R*gamma *final_state[idx]\n",
    "        discounted.insert(0,R)\n",
    "    return discounted\n",
    "    \n",
    "def update_cmodel(log_pis:torch.Tensor, rewards:torch.Tensor)-> np.array:\n",
    "    \"\"\" Updating the C-Model in a PG-Style \"\"\"\n",
    "    assert log_pis.shape[0] == rewards.shape[0]\n",
    "    \n",
    "    c_model_optim.zero_grad()\n",
    "    loss = (-log_pis*(rewards-rewards.mean())).sum()\n",
    "    loss.backward()\n",
    "    c_model_optim.step()\n",
    "    return loss.detach().cpu().numpy()"
   ]
  },
  {
   "cell_type": "code",
   "execution_count": 9,
   "metadata": {},
   "outputs": [],
   "source": [
    "action_size = env.action_space.shape[0]\n",
    "c_model = C_Model(action_size, device=device).to(device)"
   ]
  },
  {
   "cell_type": "code",
   "execution_count": 10,
   "metadata": {},
   "outputs": [],
   "source": [
    "c_model_optim = optim.Adam(params=c_model.parameters(), lr=0.001)"
   ]
  },
  {
   "cell_type": "markdown",
   "metadata": {},
   "source": [
    "## Train without M-Model\n",
    "\n",
    "Train the C-Model in Policy Gradient Style without the M-Model!"
   ]
  },
  {
   "cell_type": "code",
   "execution_count": null,
   "metadata": {},
   "outputs": [
    {
     "name": "stdout",
     "output_type": "stream",
     "text": [
      "Track generation: 968..1218 -> 250-tiles track\n",
      "Epoch: 0 | Reward: -23.69 | Loss: -190.43\n",
      "Track generation: 1082..1357 -> 275-tiles track\n",
      "Epoch: 1 | Reward: -70.80 | Loss: 27.70Track generation: 1431..1793 -> 362-tiles track\n",
      "Epoch: 2 | Reward: -52.91 | Loss: -97.38Track generation: 1150..1442 -> 292-tiles track\n",
      "Epoch: 3 | Reward: -31.27 | Loss: -197.70Track generation: 1156..1449 -> 293-tiles track\n",
      "Epoch: 4 | Reward: -62.33 | Loss: 125.76Track generation: 1264..1584 -> 320-tiles track\n",
      "Epoch: 5 | Reward: -71.79 | Loss: 132.63Track generation: 1234..1546 -> 312-tiles track\n",
      "Epoch: 6 | Reward: -77.49 | Loss: -123.33Track generation: 1157..1451 -> 294-tiles track\n",
      "Epoch: 7 | Reward: -31.74 | Loss: 237.11Track generation: 1192..1494 -> 302-tiles track\n",
      "Epoch: 8 | Reward: -53.49 | Loss: -43.13Track generation: 1145..1435 -> 290-tiles track\n",
      "Epoch: 9 | Reward: -41.18 | Loss: 272.84Track generation: 1300..1629 -> 329-tiles track\n"
     ]
    }
   ],
   "source": [
    "episodes = 100\n",
    "c_model_rewards = []\n",
    "high_action = env.action_space.high\n",
    "low_action = env.action_space.low\n",
    "for ep in range(episodes):\n",
    "    state = env.reset()\n",
    "    done = False\n",
    "    episode_rewards = 0\n",
    "    \n",
    "    reward_batch = []\n",
    "    dones_batch = []\n",
    "    log_prob_batch = []\n",
    "    \n",
    "    while True:\n",
    "\n",
    "        latent_vector_z = V_model.encode_state(state.to(device))\n",
    "        zero_hidden = torch.zeros_like(latent_vector_z).to(device)\n",
    "        action, log_prob = c_model.get_action(latent_vector_z, zero_hidden)\n",
    "        \n",
    "        action = np.asarray(np.clip(action.detach().cpu().numpy(), a_min=low_action, a_max=high_action), dtype=np.float32).squeeze()\n",
    "\n",
    "        state, reward, done, _ = env.step(action)\n",
    "        \n",
    "        reward_batch.append(reward)\n",
    "        dones_batch.append(1-int(done))\n",
    "        log_prob_batch.append(log_prob)\n",
    "        \n",
    "        episode_rewards += reward\n",
    "        \n",
    "        if done:\n",
    "            break\n",
    "            \n",
    "    rewards = calc_discounted_rewards(reward_batch, dones_batch)\n",
    "\n",
    "    loss = update_cmodel(torch.cat(log_prob_batch, dim=0),\n",
    "                         torch.FloatTensor(rewards).unsqueeze(-1).to(device))\n",
    "    \n",
    "    c_model_rewards.append(episode_rewards)    \n",
    "            \n",
    "    print(\"\\rEpoch: {} | Reward: {:.2f} | Loss: {:.2f}\".format(ep, episode_rewards, loss), end=\"\", flush=True)\n",
    "    if ep % 10 == 0:\n",
    "        print(\"\\rEpoch: {} | Reward: {:.2f} | Loss: {:.2f}\".format(ep, episode_rewards, loss))\n",
    "            \n",
    "    \n",
    "        "
   ]
  },
  {
   "cell_type": "code",
   "execution_count": 34,
   "metadata": {},
   "outputs": [
    {
     "data": {
      "text/plain": [
       "torch.Size([250, 1])"
      ]
     },
     "execution_count": 34,
     "metadata": {},
     "output_type": "execute_result"
    }
   ],
   "source": [
    "torch.FloatTensor(rewards).unsqueeze(-1).shape"
   ]
  },
  {
   "cell_type": "code",
   "execution_count": 35,
   "metadata": {},
   "outputs": [
    {
     "data": {
      "text/plain": [
       "torch.Size([250, 3])"
      ]
     },
     "execution_count": 35,
     "metadata": {},
     "output_type": "execute_result"
    }
   ],
   "source": [
    "torch.cat(log_prob_batch, dim=0).shape"
   ]
  },
  {
   "cell_type": "code",
   "execution_count": null,
   "metadata": {},
   "outputs": [],
   "source": []
  }
 ],
 "metadata": {
  "kernelspec": {
   "display_name": "Python 3",
   "language": "python",
   "name": "python3"
  },
  "language_info": {
   "codemirror_mode": {
    "name": "ipython",
    "version": 3
   },
   "file_extension": ".py",
   "mimetype": "text/x-python",
   "name": "python",
   "nbconvert_exporter": "python",
   "pygments_lexer": "ipython3",
   "version": "3.7.4"
  }
 },
 "nbformat": 4,
 "nbformat_minor": 4
}
