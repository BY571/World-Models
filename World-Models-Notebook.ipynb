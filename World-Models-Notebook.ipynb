{
 "cells": [
  {
   "cell_type": "markdown",
   "metadata": {},
   "source": [
    "# World Models\n",
    "\n",
    "### 1. V-Model\n",
    "\n",
    "### 2. M-Model\n",
    "\n",
    "### 3. C-Model\n",
    "\n"
   ]
  },
  {
   "cell_type": "code",
   "execution_count": 4,
   "metadata": {},
   "outputs": [],
   "source": [
    "import gym\n",
    "from gym.spaces import Box\n",
    "import numpy as np\n",
    "\n",
    "try:\n",
    "    import cv2\n",
    "except ImportError:\n",
    "    cv2 = None"
   ]
  },
  {
   "cell_type": "code",
   "execution_count": 5,
   "metadata": {},
   "outputs": [],
   "source": [
    "# bring observation in desired shape and scale observation between 0 and 1\n",
    "class MaxAndSkipEnv(gym.Wrapper):\n",
    "    def __init__(self, env, skip=4):\n",
    "        \"\"\"Return only every `skip`-th frame\"\"\"\n",
    "        gym.Wrapper.__init__(self, env)\n",
    "        # most recent raw observations (for max pooling across time steps)\n",
    "        self._obs_buffer = np.zeros((2,)+env.observation_space.shape, dtype=np.uint8)\n",
    "        self._skip       = skip\n",
    "\n",
    "    def step(self, action):\n",
    "        \"\"\"Repeat action, sum reward, and max over last observations.\"\"\"\n",
    "        total_reward = 0.0\n",
    "        done = None\n",
    "        for i in range(self._skip):\n",
    "            obs, reward, done, info = self.env.step(action)\n",
    "            if i == self._skip - 2: self._obs_buffer[0] = obs\n",
    "            if i == self._skip - 1: self._obs_buffer[1] = obs\n",
    "            total_reward += reward\n",
    "            if done:\n",
    "                break\n",
    "        # Note that the observation on the done=True frame\n",
    "        # doesn't matter\n",
    "        max_frame = self._obs_buffer.max(axis=0)\n",
    "\n",
    "        return max_frame, total_reward, done, info\n",
    "\n",
    "    def reset(self, **kwargs):\n",
    "        return self.env.reset(**kwargs)\n",
    "class ObservationWrapper(gym.Wrapper):\n",
    "    def __init__(self, env, image_size=(64,64,3), scale_obs=True):\n",
    "        super().__init__(env)\n",
    "        self.shape = image_size\n",
    "        self.screen_size = image_size[0]\n",
    "        self.scale_obs = scale_obs\n",
    "        _low, _high, _obs_dtype = (0, 255, np.uint8) if not scale_obs else (0, 1, np.float32)\n",
    "        self.observation_space = Box(low=_low, high=_high, shape=image_size, dtype=_obs_dtype)\n",
    "        \n",
    "    def step(self, action):\n",
    "        obs, reward, done, info = self.env.step(action)\n",
    "        return self._get_obs(obs), reward, done, info\n",
    "    \n",
    "    def reset(self):\n",
    "        obs = self.env.reset()\n",
    "        return self._get_obs(obs)\n",
    "        \n",
    "    \n",
    "    def _get_obs(self, obs):\n",
    "\n",
    "        obs = cv2.resize(obs, (self.screen_size, self.screen_size))#, interpolation=cv2.INTER_AREA)\n",
    "\n",
    "        if self.scale_obs:\n",
    "            obs = np.asarray(obs, dtype=np.float32) / 255.0\n",
    "        return obs\n",
    "    \n",
    "class PytorchWrapper(gym.Wrapper):\n",
    "    def __init__(self, env):\n",
    "        super().__init__(env)\n",
    "        \n",
    "    def step(self, action):\n",
    "        obs, reward, done, info = self.env.step(action)\n",
    "        obs = torch.from_numpy(obs).reshape((3,64,64)).unsqueeze(0)\n",
    "        return obs, reward, done, info\n",
    "    \n",
    "    def reset(self):\n",
    "        obs = self.env.reset()\n",
    "        obs = torch.from_numpy(obs).reshape((3,64,64)).unsqueeze(0)\n",
    "        return obs\n",
    "        \n",
    "        "
   ]
  },
  {
   "cell_type": "code",
   "execution_count": 6,
   "metadata": {},
   "outputs": [],
   "source": [
    "import torch\n",
    "import torch.nn as nn\n",
    "import torch.nn.functional as F\n",
    "import torch.optim as optim\n",
    "from torch.nn.utils import clip_grad_norm_\n",
    "from torch.utils.data import TensorDataset, DataLoader\n",
    "from torch.distributions import Normal\n",
    "\n",
    "import matplotlib.pyplot as plt"
   ]
  },
  {
   "cell_type": "markdown",
   "metadata": {},
   "source": [
    "# V-Model"
   ]
  },
  {
   "cell_type": "code",
   "execution_count": 79,
   "metadata": {},
   "outputs": [],
   "source": [
    "class VAE():\n",
    "    def __init__(self, state_size, latent_size_N=32, device=\"cpu\"):\n",
    "              \n",
    "        self.encoder = Encoder(state_size, latent_size_N).to(device)\n",
    "        self.decoder = Decoder(state_size, latent_size_N).to(device)\n",
    "        self.device = device\n",
    "        \n",
    "        self.params = list(self.encoder.parameters()) + list(self.decoder.parameters())\n",
    "        self.optimizer = optim.Adam(params=self.params, lr=0.001)\n",
    "        #self.optimizer_decoder = optim.Adam(params=self.decoder.parameters(), lr=0.0001)\n",
    "        \n",
    "    def forward(self, image: torch.Tensor)-> torch.Tensor:\n",
    "        \n",
    "        assert image.shape == (image.shape[0] ,3, 64, 64), \"Input Image as wrong shape!\"\n",
    "        mu, sig = self.encoder(image)\n",
    "        encoded = self.sample(mu, sig)\n",
    "        \n",
    "        decoded = self.decoder(encoded)\n",
    "        return decoded, (mu, sig)\n",
    "    \n",
    "    def encode_state(self, image: torch.Tensor)-> torch.Tensor:\n",
    "        assert image.shape == (image.shape[0], 3, 64, 64), \"Input Image as wrong shape!\"\n",
    "        encoded = self.encoder(image)\n",
    "        return encoded\n",
    "    \n",
    "    def sample(self, mu, logsig):\n",
    "            \n",
    "        #dist = Normal(mu, sig) \n",
    "        #latent_vector_z = dist.sample()\n",
    "        \n",
    "        # in the paper they had different sample methods this one and mu + sig *N(0,1)\n",
    "        #latent_vector_z = mu + sig * torch.normal(torch.zeros(1), torch.ones(1)).to(device)\n",
    "        \n",
    "        \n",
    "        sigma = logsig.exp()\n",
    "        eps = torch.randn_like(sigma)     \n",
    "        return eps.mul(sigma).add_(mu)\n",
    "        \n",
    "    def train(self, dataloader:DataLoader)-> torch.Tensor:\n",
    "        losses = {\"loss1\": [], \"loss2\": []}\n",
    "        for idx, sample in enumerate(dataloader):\n",
    "            \n",
    "            image_batch = sample[0].to(device)\n",
    "            reconstructed, (mu, sig) = self.forward(image_batch)\n",
    "            \n",
    "            loss_1 = kl_loss(mu, sig)\n",
    "            loss_2 = l2_dist_loss(reconstructed, image_batch)\n",
    "            \n",
    "            self.optimizer.zero_grad()\n",
    "            loss = (loss_1 + loss_2).mean()\n",
    "            \n",
    "            loss.backward()\n",
    "            #clip_grad_norm_(self.params, 10.)\n",
    "            self.optimizer.step()\n",
    "            losses[\"loss1\"].append(loss_1.detach().cpu().numpy())\n",
    "            losses[\"loss2\"].append(loss_2.detach().cpu().numpy())\n",
    "        return np.mean(losses[\"loss1\"]),np.mean(losses[\"loss2\"]) \n",
    "            \n",
    "            \n",
    "\n",
    "def kl_loss(mu: torch.Tensor, sig:torch.Tensor)-> torch.Tensor:\n",
    "    #loss = - 0.5 * (1 + torch.log(sig).pow(2) - sig.pow(2) - mu.pow(2)).sum()\n",
    "    loss = -0.5 * torch.sum(1 + 2 * sig - mu.pow(2) - (2 * sig).exp())\n",
    "    return loss\n",
    "\n",
    "def l2_dist_loss(prediction:torch.Tensor, target:torch.Tensor)-> torch.Tensor:\n",
    "    #return - torch.dist(target,prediction, p=2)\n",
    "    return F.mse_loss(prediction, target, size_average=False)\n",
    "    #return F.binary_cross_entropy(prediction, target, size_average=False)\n",
    "        \n",
    "class Encoder(nn.Module):\n",
    "    def __init__(self, state_size, latent_size_N=32):\n",
    "        super(Encoder, self).__init__()\n",
    "        \n",
    "        self.conv1 = nn.Conv2d(in_channels=3, out_channels=32, kernel_size=4, stride=2)\n",
    "        self.conv2 = nn.Conv2d(in_channels=32, out_channels=64, kernel_size=4, stride=2)\n",
    "        self.conv3 = nn.Conv2d(in_channels=64, out_channels=128, kernel_size=4, stride=2)\n",
    "        self.conv4 = nn.Conv2d(in_channels=128, out_channels=256, kernel_size=4, stride=2)\n",
    "        self.output_mu = nn.Linear(1024, latent_size_N)\n",
    "        self.output_sig = nn.Linear(1024, latent_size_N)\n",
    "        #self.softplus = nn.Softplus() #use different activation?\n",
    "        \n",
    "    \n",
    "    def forward(self, img):\n",
    "        \n",
    "        x = torch.relu(self.conv1(img))\n",
    "        #print(x.shape)\n",
    "        x = torch.relu(self.conv2(x))\n",
    "        #print(x.shape)\n",
    "        x = torch.relu(self.conv3(x))\n",
    "        #print(x.shape)\n",
    "        x = torch.relu(self.conv4(x))\n",
    "        #print(x.shape)\n",
    "        \n",
    "        mu = self.output_mu(x.flatten(1)) #torch.tanh()\n",
    "        log_sig = self.output_sig(x.flatten(1))#self.softplus()\n",
    "        #sig = torch.sqrt(var)\n",
    "                    \n",
    "        return (mu, log_sig)\n",
    "\n",
    "        \n",
    "class Decoder(nn.Module):\n",
    "    def __init__(self, state_size, latent_size_N=32):\n",
    "        super(Decoder, self).__init__()\n",
    "        \n",
    "        self.in_linear = nn.Linear(32, 1024)\n",
    "        self.deconv1 = nn.ConvTranspose2d(in_channels=1024, out_channels=128, kernel_size=5, stride=2)\n",
    "        self.deconv2 = nn.ConvTranspose2d(in_channels=128, out_channels=64, kernel_size=5, stride=2)\n",
    "        self.deconv3 = nn.ConvTranspose2d(in_channels=64, out_channels=32, kernel_size=6, stride=2)\n",
    "        self.deconv4 = nn.ConvTranspose2d(in_channels=32, out_channels=3, kernel_size=6, stride=2)\n",
    "        \n",
    "    def forward(self, latent_vector):\n",
    "        \n",
    "        x = torch.relu(self.in_linear(latent_vector)).unsqueeze(-1).unsqueeze(-1)\n",
    "        x = torch.relu(self.deconv1(x))\n",
    "        #print(x.shape)\n",
    "        x = torch.relu(self.deconv2(x))\n",
    "        #print(x.shape)\n",
    "        x = torch.relu(self.deconv3(x))\n",
    "        #print(x.shape)\n",
    "        x = torch.sigmoid(self.deconv4(x))\n",
    "        #print(x.shape)\n",
    "        return x"
   ]
  },
  {
   "cell_type": "markdown",
   "metadata": {},
   "source": [
    "# Create Samples with random policy\n"
   ]
  },
  {
   "cell_type": "code",
   "execution_count": 8,
   "metadata": {},
   "outputs": [
    {
     "name": "stderr",
     "output_type": "stream",
     "text": [
      "/home/sebastian/anaconda3/lib/python3.7/site-packages/gym/logger.py:30: UserWarning: \u001b[33mWARN: Box bound precision lowered by casting to float32\u001b[0m\n",
      "  warnings.warn(colorize('%s: %s'%('WARN', msg % args), 'yellow'))\n"
     ]
    },
    {
     "name": "stdout",
     "output_type": "stream",
     "text": [
      "Track generation: 1039..1303 -> 264-tiles track\n",
      "Ep: 0 | Sample size: 200\n",
      "Track generation: 1147..1447 -> 300-tiles track\n",
      "Ep: 1 | Sample size: 400\n",
      "Track generation: 1267..1588 -> 321-tiles track\n",
      "Ep: 2 | Sample size: 600\n",
      "Track generation: 1273..1595 -> 322-tiles track\n",
      "Ep: 3 | Sample size: 800\n",
      "Track generation: 1104..1384 -> 280-tiles track\n",
      "Ep: 4 | Sample size: 1000\n",
      "Track generation: 1172..1476 -> 304-tiles track\n",
      "Ep: 5 | Sample size: 1200\n",
      "Track generation: 1074..1347 -> 273-tiles track\n",
      "Ep: 6 | Sample size: 1400\n",
      "Track generation: 1292..1619 -> 327-tiles track\n",
      "Ep: 7 | Sample size: 1600\n",
      "Track generation: 1253..1571 -> 318-tiles track\n",
      "Ep: 8 | Sample size: 1800\n",
      "Track generation: 1222..1532 -> 310-tiles track\n",
      "Ep: 9 | Sample size: 2000\n"
     ]
    }
   ],
   "source": [
    "Episodes = 10\n",
    "env = gym.make(\"CarRacing-v0\")\n",
    "env = MaxAndSkipEnv(env)\n",
    "env = ObservationWrapper(env, image_size=(64,64,3), scale_obs=True)\n",
    "env = PytorchWrapper(env)\n",
    "states = []\n",
    "for ep in range(Episodes):\n",
    "    done=False\n",
    "    state = env.reset()\n",
    "    step_count = 0 ## First ~50 steps is zooming to start position. not needed for training\n",
    "    while True:\n",
    "        state, reward, done, _ = env.step(env.action_space.sample())\n",
    "        step_count += 1\n",
    "        if step_count > 50:\n",
    "            states.append(state)\n",
    "        \n",
    "        if done:\n",
    "            print(\"Ep: {} | Sample size: {}\".format(ep, len(states)))\n",
    "            break\n",
    "        "
   ]
  },
  {
   "cell_type": "code",
   "execution_count": 10,
   "metadata": {
    "scrolled": true
   },
   "outputs": [
    {
     "data": {
      "text/plain": [
       "<matplotlib.image.AxesImage at 0x7faec3e3db50>"
      ]
     },
     "execution_count": 10,
     "metadata": {},
     "output_type": "execute_result"
    },
    {
     "data": {
      "image/png": "[encoded data removed]",
      "text/plain": [
       "<Figure size 432x288 with 1 Axes>"
      ]
     },
     "metadata": {
      "needs_background": "light"
     },
     "output_type": "display_data"
    }
   ],
   "source": [
    "plt.imshow(states[175].squeeze().reshape(64,64,3))"
   ]
  },
  {
   "cell_type": "markdown",
   "metadata": {},
   "source": [
    "# Create Dataset "
   ]
  },
  {
   "cell_type": "code",
   "execution_count": 70,
   "metadata": {},
   "outputs": [],
   "source": [
    "# Create Dataset of states\n",
    "set = torch.cat(states, dim=0)\n",
    "dataset = TensorDataset(set)\n",
    "dataloader = DataLoader(dataset, batch_size=256, shuffle=True)"
   ]
  },
  {
   "cell_type": "code",
   "execution_count": 80,
   "metadata": {},
   "outputs": [
    {
     "name": "stdout",
     "output_type": "stream",
     "text": [
      "Using: cuda:0\n"
     ]
    }
   ],
   "source": [
    "device = torch.device(\"cuda:0\" if torch.cuda.is_available() else \"cpu\")\n",
    "#device = \"cpu\"\n",
    "V_model = VAE(state_size=state.shape, device=device)\n",
    "print(\"Using: {}\".format(device))"
   ]
  },
  {
   "cell_type": "code",
   "execution_count": 81,
   "metadata": {},
   "outputs": [
    {
     "name": "stdout",
     "output_type": "stream",
     "text": [
      "Epoch: 0 | kl_loss: 252.46 | l2_loss: 166874.00\n",
      "Epoch: 1 | kl_loss: 189.39 | l2_loss: 94056.22\n",
      "Epoch: 2 | kl_loss: 5.75 | l2_loss: 57636.94\n",
      "Epoch: 3 | kl_loss: 3.04 | l2_loss: 43683.79\n",
      "Epoch: 4 | kl_loss: 3.24 | l2_loss: 35950.03\n",
      "Epoch: 5 | kl_loss: 3.32 | l2_loss: 31366.36\n",
      "Epoch: 6 | kl_loss: 3.43 | l2_loss: 28664.41\n",
      "Epoch: 7 | kl_loss: 3.40 | l2_loss: 27102.43\n",
      "Epoch: 8 | kl_loss: 3.31 | l2_loss: 26123.50\n",
      "Epoch: 9 | kl_loss: 3.74 | l2_loss: 25471.71\n",
      "Epoch: 10 | kl_loss: 11.59 | l2_loss: 24852.25\n",
      "Epoch: 11 | kl_loss: 26.69 | l2_loss: 24415.58\n",
      "Epoch: 12 | kl_loss: 23.02 | l2_loss: 24055.66\n",
      "Epoch: 13 | kl_loss: 25.70 | l2_loss: 23768.95\n",
      "Epoch: 14 | kl_loss: 27.53 | l2_loss: 23529.75\n",
      "Epoch: 15 | kl_loss: 30.38 | l2_loss: 23342.84\n",
      "Epoch: 16 | kl_loss: 24.43 | l2_loss: 23192.20\n",
      "Epoch: 17 | kl_loss: 32.24 | l2_loss: 23073.93\n",
      "Epoch: 18 | kl_loss: 30.53 | l2_loss: 22977.61\n",
      "Epoch: 19 | kl_loss: 39.39 | l2_loss: 22920.45\n",
      "Epoch: 20 | kl_loss: 34.69 | l2_loss: 22811.34\n",
      "Epoch: 21 | kl_loss: 36.79 | l2_loss: 22718.05\n",
      "Epoch: 22 | kl_loss: 49.88 | l2_loss: 22658.52\n",
      "Epoch: 23 | kl_loss: 56.53 | l2_loss: 22583.37\n",
      "Epoch: 24 | kl_loss: 78.90 | l2_loss: 22444.70\n"
     ]
    }
   ],
   "source": [
    "Epochs = 25\n",
    "losses = {\"loss1\": [], \"loss2\": [], \"loss\": []}\n",
    "for i in range(Epochs):\n",
    "    loss1, loss2 = V_model.train(dataloader)\n",
    "    print(\"Epoch: {} | kl_loss: {:.2f} | l2_loss: {:.2f}\".format(i, loss1, loss2))\n",
    "    losses[\"loss1\"].append(loss1)    \n",
    "    losses[\"loss2\"].append(loss2)    \n",
    "    losses[\"loss\"].append(loss1+loss2)"
   ]
  },
  {
   "cell_type": "code",
   "execution_count": null,
   "metadata": {},
   "outputs": [],
   "source": []
  },
  {
   "cell_type": "code",
   "execution_count": 82,
   "metadata": {},
   "outputs": [
    {
     "data": {
      "text/plain": [
       "<function matplotlib.pyplot.show(close=None, block=None)>"
      ]
     },
     "execution_count": 82,
     "metadata": {},
     "output_type": "execute_result"
    },
    {
     "data": {
      "image/png": "[encoded data removed]",
      "text/plain": [
       "<Figure size 432x288 with 1 Axes>"
      ]
     },
     "metadata": {
      "needs_background": "light"
     },
     "output_type": "display_data"
    }
   ],
   "source": [
    "import matplotlib.pyplot as plt\n",
    "plt.plot(losses[\"loss1\"], label=\"KL loss\")\n",
    "plt.plot(losses[\"loss2\"], label=\"L2 loss\")\n",
    "plt.plot(losses[\"loss\"], label=\"Combined loss\")\n",
    "plt.legend()\n",
    "\n",
    "plt.show"
   ]
  },
  {
   "cell_type": "markdown",
   "metadata": {},
   "source": [
    "# Observe training results"
   ]
  },
  {
   "cell_type": "code",
   "execution_count": 83,
   "metadata": {
    "scrolled": true
   },
   "outputs": [
    {
     "data": {
      "text/plain": [
       "2000"
      ]
     },
     "execution_count": 83,
     "metadata": {},
     "output_type": "execute_result"
    }
   ],
   "source": [
    "len(states)"
   ]
  },
  {
   "cell_type": "code",
   "execution_count": 91,
   "metadata": {},
   "outputs": [
    {
     "data": {
      "text/plain": [
       "<matplotlib.image.AxesImage at 0x7faec0bd3610>"
      ]
     },
     "execution_count": 91,
     "metadata": {},
     "output_type": "execute_result"
    },
    {
     "data": {
      "image/png": "[encoded data removed]",
      "text/plain": [
       "<Figure size 432x288 with 1 Axes>"
      ]
     },
     "metadata": {
      "needs_background": "light"
     },
     "output_type": "display_data"
    }
   ],
   "source": [
    "# select example image\n",
    "plt.imshow(states[2].squeeze().reshape(64,64,3))"
   ]
  },
  {
   "cell_type": "code",
   "execution_count": 92,
   "metadata": {},
   "outputs": [],
   "source": [
    "# view reconstructed image"
   ]
  },
  {
   "cell_type": "code",
   "execution_count": 93,
   "metadata": {},
   "outputs": [
    {
     "data": {
      "text/plain": [
       "<matplotlib.image.AxesImage at 0x7faec0bbfad0>"
      ]
     },
     "execution_count": 93,
     "metadata": {},
     "output_type": "execute_result"
    },
    {
     "data": {
      "image/png": "[encoded data removed]",
      "text/plain": [
       "<Figure size 432x288 with 1 Axes>"
      ]
     },
     "metadata": {
      "needs_background": "light"
     },
     "output_type": "display_data"
    }
   ],
   "source": [
    "reconstr, _ = V_model.forward(states[2].to(device))\n",
    "plt.imshow(reconstr.detach().cpu().numpy().reshape(64,64,3))"
   ]
  },
  {
   "cell_type": "code",
   "execution_count": null,
   "metadata": {},
   "outputs": [],
   "source": []
  },
  {
   "cell_type": "markdown",
   "metadata": {},
   "source": [
    "# M-Model"
   ]
  },
  {
   "cell_type": "code",
   "execution_count": 80,
   "metadata": {},
   "outputs": [],
   "source": [
    "class MModel(nn.Module):\n",
    "    def __init__(self, action_size, latent_size=32, hidden_size=256, batch_size=64, n_gaussians=5, rnn_type=\"LSTM\"):\n",
    "        super(MModel, self).__init__()\n",
    "        \n",
    "        self.input_shape = action_size+latent_size\n",
    "        self.action_size = action_size\n",
    "        self.latent_size = latent_size\n",
    "        self.n_gaussians = n_gaussians\n",
    "        self.batch_size = batch_size\n",
    "        \n",
    "        if rnn_type == \"LSTM\":\n",
    "            self.rnn_layer = nn.LSTM(self.input_shape, hidden_size, batch_first=True)\n",
    "        elif rnn_type == \"GRU\":\n",
    "            self.rnn_layer = nn.GRU(self.input_shape, hidden_size, batch_first=True)\n",
    "            \n",
    "        self.pi_layer = nn.Linear(hidden_size, n_gaussians*latent_size)\n",
    "        self.mu_layer = nn.Linear(hidden_size, n_gaussians*latent_size)\n",
    "        self.sig_layer = nn.Linear(hidden_size, n_gaussians*latent_size)\n",
    "        \n",
    "        \n",
    "    def forward(self, latent_vector: torch.Tensor, action:torch.Tensor, hidden_state=None)-> torch.Tensor:\n",
    "        \"\"\" Simple forward pass with the RNN \"\"\"\n",
    "        \n",
    "        assert latent_vector.shape == (latent_vector.shape[0], self.latent_size), \"Latent vector has the wrong shape!\"\n",
    "        assert action.shape == (action.shape[0], self.action_size), \"Action batch has the wrong shape!\"\n",
    "        \n",
    "        input_tensor = torch.cat((latent_vector, action),dim=1).unsqueeze(1)\n",
    "        assert input_tensor.shape == (action.shape[0], 1, self.input_shape), \"input_tensor has wrong shape!\"\n",
    "        \n",
    "        output, hidden_state = self.rnn_layer(input_tensor, hidden_state)\n",
    "        \n",
    "        (pi, mu, sigma) = self.get_gauss_coeffs(output)\n",
    "        return (pi, mu, sigma), hidden_state\n",
    "    \n",
    "    \n",
    "    def get_gauss_coeffs(self, y:torch.Tensor):\n",
    "        \n",
    "        rollout_length = y.size(1)\n",
    "        \n",
    "        pi = self.pi_layer(y)\n",
    "        mu = self.mu_layer(y)\n",
    "        sigma = self.sig_layer(y)\n",
    "        \n",
    "        pi = pi.view(-1, rollout_length, self.n_gaussians, self.latent_size)\n",
    "        mu = mu.view(-1, rollout_length, self.n_gaussians, self.latent_size)\n",
    "        sigma = sigma.view(-1, rollout_length, self.n_gaussians, self.latent_size)\n",
    "        \n",
    "        pi = F.softmax(pi, 2)\n",
    "        sigma = torch.exp(sigma)\n",
    "        return pi, mu, sigma\n",
    "    \n",
    "    def predict_next_z(self,latent_vector: torch.Tensor, action:torch.Tensor, tau: float, hidden_state=None)-> torch.Tensor:\n",
    "        \"\"\" Predicts the next Latent Vector Z \"\"\"\n",
    "        values, hidden_state = self.forward(latent_vector, action, hidden_state)\n",
    "        mu, sigma = values[1], values[2]\n",
    "        \n",
    "        dist = Normal(mu, sigma*tau)\n",
    "        z_ = dist.sample().mean(2)\n",
    "        print(z_.shape)\n",
    "        \n",
    "        prediction = [torch.normal(mu, sigma)[:, :, i, :] for i in range(self.n_gaussians)]\n",
    "        return prediction, hidden_state\n",
    "        \n",
    "# M-Model loss calculation\n",
    "def mdn_loss_fn(y, pi, mu, sigma):\n",
    "    m = Normal(loc=mu, scale=sigma)\n",
    "    loss = torch.exp(m.log_prob(y))\n",
    "    loss = torch.sum(loss * pi, dim=2)\n",
    "    loss = -torch.log(loss)\n",
    "    return loss.mean()\n",
    "\n",
    "\n",
    "def criterion(y, pi, mu, sigma):\n",
    "    y = y.unsqueeze(2)\n",
    "    return mdn_loss_fn(y, pi, mu, sigma)"
   ]
  },
  {
   "cell_type": "code",
   "execution_count": 81,
   "metadata": {},
   "outputs": [],
   "source": [
    "m_model = MModel(action_size=4)"
   ]
  },
  {
   "cell_type": "code",
   "execution_count": null,
   "metadata": {},
   "outputs": [],
   "source": []
  },
  {
   "cell_type": "code",
   "execution_count": 82,
   "metadata": {},
   "outputs": [],
   "source": [
    "action = torch.ones((1,4))\n",
    "z, hidden = m_model(out, action)"
   ]
  },
  {
   "cell_type": "code",
   "execution_count": 83,
   "metadata": {},
   "outputs": [
    {
     "name": "stdout",
     "output_type": "stream",
     "text": [
      "torch.Size([1, 1, 32])\n"
     ]
    }
   ],
   "source": [
    "z_, h = m_model.predict_next_z(out, action, None)"
   ]
  },
  {
   "cell_type": "code",
   "execution_count": 71,
   "metadata": {},
   "outputs": [
    {
     "data": {
      "text/plain": [
       "torch.Size([1, 1, 32])"
      ]
     },
     "execution_count": 71,
     "metadata": {},
     "output_type": "execute_result"
    }
   ],
   "source": [
    "z_[4].shape"
   ]
  },
  {
   "cell_type": "code",
   "execution_count": null,
   "metadata": {},
   "outputs": [],
   "source": []
  }
 ],
 "metadata": {
  "kernelspec": {
   "display_name": "Python 3",
   "language": "python",
   "name": "python3"
  },
  "language_info": {
   "codemirror_mode": {
    "name": "ipython",
    "version": 3
   },
   "file_extension": ".py",
   "mimetype": "text/x-python",
   "name": "python",
   "nbconvert_exporter": "python",
   "pygments_lexer": "ipython3",
   "version": "3.7.4"
  }
 },
 "nbformat": 4,
 "nbformat_minor": 4
}
