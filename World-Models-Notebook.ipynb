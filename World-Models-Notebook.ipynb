{
 "cells": [
  {
   "cell_type": "markdown",
   "metadata": {},
   "source": [
    "# World Models\n",
    "\n",
    "### 1. V-Model\n",
    "\n",
    "### 2. M-Model\n",
    "\n",
    "### 3. C-Model\n",
    "\n"
   ]
  },
  {
   "cell_type": "code",
   "execution_count": 9,
   "metadata": {},
   "outputs": [],
   "source": [
    "import gym\n",
    "from gym.spaces import Box\n",
    "import numpy as np\n",
    "\n",
    "try:\n",
    "    import cv2\n",
    "except ImportError:\n",
    "    cv2 = None"
   ]
  },
  {
   "cell_type": "code",
   "execution_count": 10,
   "metadata": {},
   "outputs": [
    {
     "name": "stderr",
     "output_type": "stream",
     "text": [
      "/home/sebastian/anaconda3/lib/python3.7/site-packages/gym/logger.py:30: UserWarning: \u001b[33mWARN: Box bound precision lowered by casting to float32\u001b[0m\n",
      "  warnings.warn(colorize('%s: %s'%('WARN', msg % args), 'yellow'))\n"
     ]
    }
   ],
   "source": [
    "env = gym.make(\"CarRacing-v0\")"
   ]
  },
  {
   "cell_type": "code",
   "execution_count": 11,
   "metadata": {},
   "outputs": [
    {
     "name": "stdout",
     "output_type": "stream",
     "text": [
      "Track generation: 1175..1473 -> 298-tiles track\n"
     ]
    }
   ],
   "source": [
    "state = env.reset()"
   ]
  },
  {
   "cell_type": "code",
   "execution_count": 12,
   "metadata": {},
   "outputs": [],
   "source": [
    "import matplotlib.pyplot as plt"
   ]
  },
  {
   "cell_type": "code",
   "execution_count": 13,
   "metadata": {},
   "outputs": [
    {
     "data": {
      "text/plain": [
       "[]"
      ]
     },
     "execution_count": 13,
     "metadata": {},
     "output_type": "execute_result"
    },
    {
     "data": {
      "image/png": "[encoded data removed]",
      "text/plain": [
       "<Figure size 432x288 with 1 Axes>"
      ]
     },
     "metadata": {
      "needs_background": "light"
     },
     "output_type": "display_data"
    }
   ],
   "source": [
    "plt.imshow(state)\n",
    "plt.plot()"
   ]
  },
  {
   "cell_type": "code",
   "execution_count": 14,
   "metadata": {},
   "outputs": [
    {
     "data": {
      "text/plain": [
       "(96, 96, 3)"
      ]
     },
     "execution_count": 14,
     "metadata": {},
     "output_type": "execute_result"
    }
   ],
   "source": [
    "state.shape"
   ]
  },
  {
   "cell_type": "code",
   "execution_count": 15,
   "metadata": {},
   "outputs": [],
   "source": [
    "# bring observation in desired shape and scale observation between 0 and 1\n",
    "class ObservationWrapper(gym.Wrapper):\n",
    "    def __init__(self, env, image_size=(64,64,3), scale_obs=True):\n",
    "        super().__init__(env)\n",
    "        self.shape = image_size\n",
    "        self.screen_size = image_size[0]\n",
    "        self.scale_obs = scale_obs\n",
    "        _low, _high, _obs_dtype = (0, 255, np.uint8) if not scale_obs else (0, 1, np.float32)\n",
    "        self.observation_space = Box(low=_low, high=_high, shape=image_size, dtype=_obs_dtype)\n",
    "        \n",
    "    def step(self, action):\n",
    "        obs, reward, done, info = self.env.step(action)\n",
    "        return self._get_obs(state), reward, done, info\n",
    "    \n",
    "    def reset(self):\n",
    "        obs = self.env.reset()\n",
    "        return self._get_obs(obs)\n",
    "        \n",
    "    \n",
    "    def _get_obs(self, obs):\n",
    "        obs = cv2.resize(obs, (self.screen_size, self.screen_size), interpolation=cv2.INTER_AREA)\n",
    "\n",
    "        if self.scale_obs:\n",
    "            obs = np.asarray(obs, dtype=np.float32) / 255.0\n",
    "        return obs\n",
    "    \n",
    "class PytorchWrapper(gym.Wrapper):\n",
    "    def __init__(self, env):\n",
    "        super().__init__(env)\n",
    "        \n",
    "    def step(self, action):\n",
    "        obs, reward, done, info = self.env.step(action)\n",
    "        obs = torch.from_numpy(obs).reshape((3,64,64))\n",
    "        return obs, reward, done, info\n",
    "    \n",
    "    def reset(self):\n",
    "        obs = self.env.reset()\n",
    "        obs = torch.from_numpy(obs).reshape((3,64,64))\n",
    "        return obs\n",
    "        \n",
    "        "
   ]
  },
  {
   "cell_type": "code",
   "execution_count": 16,
   "metadata": {},
   "outputs": [],
   "source": [
    "env = ObservationWrapper(env, image_size=(64,64,3), scale_obs=True)\n",
    "env = PytorchWrapper(env)"
   ]
  },
  {
   "cell_type": "code",
   "execution_count": 17,
   "metadata": {},
   "outputs": [
    {
     "name": "stdout",
     "output_type": "stream",
     "text": [
      "Track generation: 1148..1439 -> 291-tiles track\n"
     ]
    }
   ],
   "source": [
    "state = env.reset()"
   ]
  },
  {
   "cell_type": "code",
   "execution_count": 25,
   "metadata": {
    "scrolled": true
   },
   "outputs": [
    {
     "data": {
      "text/plain": [
       "array([[[0.        , 0.        , 0.        ],\n",
       "        [0.        , 0.        , 0.        ],\n",
       "        [0.        , 0.        , 0.        ],\n",
       "        ...,\n",
       "        [0.        , 0.        , 0.        ],\n",
       "        [0.        , 0.        , 0.        ],\n",
       "        [0.        , 0.        , 0.        ]],\n",
       "\n",
       "       [[0.        , 0.        , 0.        ],\n",
       "        [0.        , 0.        , 0.        ],\n",
       "        [0.        , 0.        , 0.        ],\n",
       "        ...,\n",
       "        [0.        , 0.        , 0.        ],\n",
       "        [0.        , 0.        , 0.        ],\n",
       "        [0.        , 0.        , 0.        ]],\n",
       "\n",
       "       [[0.        , 0.        , 0.        ],\n",
       "        [0.        , 0.        , 0.        ],\n",
       "        [0.        , 0.        , 0.        ],\n",
       "        ...,\n",
       "        [0.        , 0.        , 0.        ],\n",
       "        [0.        , 0.        , 0.        ],\n",
       "        [0.        , 0.        , 0.        ]],\n",
       "\n",
       "       ...,\n",
       "\n",
       "       [[0.        , 0.        , 0.        ],\n",
       "        [0.22352941, 0.22352941, 0.22352941],\n",
       "        [0.2784314 , 0.2784314 , 0.2784314 ],\n",
       "        ...,\n",
       "        [0.        , 0.        , 0.        ],\n",
       "        [0.        , 0.        , 0.        ],\n",
       "        [0.        , 0.        , 0.        ]],\n",
       "\n",
       "       [[0.        , 0.        , 0.        ],\n",
       "        [0.        , 0.        , 0.        ],\n",
       "        [0.        , 0.        , 0.        ],\n",
       "        ...,\n",
       "        [0.        , 0.        , 0.        ],\n",
       "        [0.        , 0.        , 0.        ],\n",
       "        [0.        , 0.        , 0.        ]],\n",
       "\n",
       "       [[0.        , 0.        , 0.        ],\n",
       "        [0.        , 0.        , 0.        ],\n",
       "        [0.        , 0.        , 0.        ],\n",
       "        ...,\n",
       "        [0.        , 0.        , 0.        ],\n",
       "        [0.        , 0.        , 0.        ],\n",
       "        [0.        , 0.        , 0.        ]]], dtype=float32)"
      ]
     },
     "execution_count": 25,
     "metadata": {},
     "output_type": "execute_result"
    }
   ],
   "source": []
  },
  {
   "cell_type": "code",
   "execution_count": 46,
   "metadata": {},
   "outputs": [],
   "source": [
    "import torch\n",
    "import torch.nn as nn\n",
    "import torch.nn.functional as F\n",
    "from torch.distributions import Normal"
   ]
  },
  {
   "cell_type": "markdown",
   "metadata": {},
   "source": [
    "# V-Model"
   ]
  },
  {
   "cell_type": "code",
   "execution_count": 19,
   "metadata": {},
   "outputs": [],
   "source": [
    "class VAE():\n",
    "    def __init__(self, state_size, latent_size_N=32):\n",
    "              \n",
    "        self.encoder = Encoder(state_size, latent_size_N)\n",
    "        self.decoder = Decoder(state_size, latent_size_N)\n",
    "        \n",
    "        \n",
    "    def forward(self, image: torch.Tensor)-> torch.Tensor:\n",
    "        \n",
    "        assert image.shape == (3, 64, 64), \"Input Image as wrong shape!\"\n",
    "        encoded = self.encoder(image)\n",
    "        \n",
    "        decoded = self.decoder(encoded)\n",
    "        return decoded\n",
    "    \n",
    "    def encode_state(self, image: torch.Tensor)-> torch.Tensor:\n",
    "        assert image.shape == (3, 64, 64), \"Input Image as wrong shape!\"\n",
    "        encoded = self.encoder(image)\n",
    "        return encoded\n",
    "        \n",
    "        \n",
    "class Encoder(nn.Module):\n",
    "    def __init__(self, state_size, latent_size_N=32):\n",
    "        super(Encoder, self).__init__()\n",
    "        \n",
    "        self.conv1 = nn.Conv2d(in_channels=3, out_channels=32, kernel_size=4, stride=2)\n",
    "        self.conv2 = nn.Conv2d(in_channels=32, out_channels=64, kernel_size=4, stride=2)\n",
    "        self.conv3 = nn.Conv2d(in_channels=64, out_channels=128, kernel_size=4, stride=2)\n",
    "        self.conv4 = nn.Conv2d(in_channels=128, out_channels=256, kernel_size=4, stride=2)\n",
    "        self.output_mu = nn.Linear(1024, latent_size_N)\n",
    "        self.output_sig = nn.Linear(1024, latent_size_N)\n",
    "        self.softplus = nn.Softplus() #use different activation?\n",
    "        \n",
    "    \n",
    "    def forward(self, img):\n",
    "        \n",
    "        x = torch.relu(self.conv1(img))\n",
    "        print(x.shape)\n",
    "        x = torch.relu(self.conv2(x))\n",
    "        print(x.shape)\n",
    "        x = torch.relu(self.conv3(x))\n",
    "        print(x.shape)\n",
    "        x = torch.relu(self.conv4(x))\n",
    "        print(x.shape)\n",
    "        \n",
    "        mu = torch.tanh(self.output_mu(x.flatten(1)))\n",
    "        sig = self.softplus(self.output_sig(x.flatten(1)))\n",
    "        \n",
    "        dist = Normal(mu, sig) # in the paper they had different sample methods this one and mu + sig *N(0,1)\n",
    "        \n",
    "        latent_vector_z = dist.sample()\n",
    "            \n",
    "        return latent_vector_z\n",
    "\n",
    "        \n",
    "class Decoder(nn.Module):\n",
    "    def __init__(self, state_size, latent_size_N=32):\n",
    "        super(Decoder, self).__init__()\n",
    "        \n",
    "        self.in_linear = nn.Linear(32, 1024)\n",
    "        self.deconv1 = nn.ConvTranspose2d(in_channels=1024, out_channels=128, kernel_size=5)\n",
    "        self.deconv2 = nn.ConvTranspose2d(in_channels=128, out_channels=64, kernel_size=5, stride=2)\n",
    "        self.deconv3 = nn.ConvTranspose2d(in_channels=64, out_channels=32, kernel_size=6, stride=2)\n",
    "        self.deconv4 = nn.ConvTranspose2d(in_channels=32, out_channels=3, kernel_size=6, stride=2)\n",
    "        \n",
    "    def forward(self, latent_vector):\n",
    "        \n",
    "        x = torch.relu(self.in_linear(latent_vector)).unsqueeze(-1).unsqueeze(-1)\n",
    "        x = torch.relu(self.deconv1(x))\n",
    "        print(x.shape)\n",
    "        x = torch.relu(self.deconv2(x))\n",
    "        print(x.shape)\n",
    "        x = torch.relu(self.deconv3(x))\n",
    "        print(x.shape)\n",
    "        x = torch.sigmoid(self.deconv4(x))\n",
    "        print(x.shape)\n",
    "        return x"
   ]
  },
  {
   "cell_type": "code",
   "execution_count": 20,
   "metadata": {},
   "outputs": [],
   "source": [
    "encoder = Encoder((64,64,3))\n",
    "decoder = Decoder((64,64,3))"
   ]
  },
  {
   "cell_type": "code",
   "execution_count": 21,
   "metadata": {},
   "outputs": [
    {
     "name": "stdout",
     "output_type": "stream",
     "text": [
      "torch.Size([1, 32, 31, 31])\n",
      "torch.Size([1, 64, 14, 14])\n",
      "torch.Size([1, 128, 6, 6])\n",
      "torch.Size([1, 256, 2, 2])\n"
     ]
    }
   ],
   "source": [
    "out = encoder(state.unsqueeze(0))"
   ]
  },
  {
   "cell_type": "code",
   "execution_count": 22,
   "metadata": {},
   "outputs": [
    {
     "data": {
      "text/plain": [
       "torch.Size([1, 32])"
      ]
     },
     "execution_count": 22,
     "metadata": {},
     "output_type": "execute_result"
    }
   ],
   "source": [
    "out.shape"
   ]
  },
  {
   "cell_type": "code",
   "execution_count": 23,
   "metadata": {},
   "outputs": [
    {
     "name": "stdout",
     "output_type": "stream",
     "text": [
      "torch.Size([1, 128, 5, 5])\n",
      "torch.Size([1, 64, 13, 13])\n",
      "torch.Size([1, 32, 30, 30])\n",
      "torch.Size([1, 3, 64, 64])\n"
     ]
    },
    {
     "data": {
      "text/plain": [
       "tensor([[[[0.4784, 0.4792, 0.4793,  ..., 0.4775, 0.4792, 0.4780],\n",
       "          [0.4820, 0.4798, 0.4816,  ..., 0.4803, 0.4785, 0.4802],\n",
       "          [0.4793, 0.4821, 0.4785,  ..., 0.4766, 0.4776, 0.4779],\n",
       "          ...,\n",
       "          [0.4793, 0.4816, 0.4796,  ..., 0.4800, 0.4800, 0.4799],\n",
       "          [0.4791, 0.4783, 0.4776,  ..., 0.4781, 0.4798, 0.4792],\n",
       "          [0.4792, 0.4814, 0.4798,  ..., 0.4797, 0.4796, 0.4791]],\n",
       "\n",
       "         [[0.4911, 0.4923, 0.4918,  ..., 0.4901, 0.4912, 0.4905],\n",
       "          [0.4930, 0.4914, 0.4923,  ..., 0.4928, 0.4923, 0.4932],\n",
       "          [0.4897, 0.4924, 0.4915,  ..., 0.4905, 0.4914, 0.4907],\n",
       "          ...,\n",
       "          [0.4895, 0.4913, 0.4885,  ..., 0.4916, 0.4912, 0.4900],\n",
       "          [0.4927, 0.4920, 0.4932,  ..., 0.4935, 0.4914, 0.4925],\n",
       "          [0.4916, 0.4919, 0.4906,  ..., 0.4929, 0.4925, 0.4914]],\n",
       "\n",
       "         [[0.5172, 0.5177, 0.5187,  ..., 0.5194, 0.5182, 0.5189],\n",
       "          [0.5191, 0.5208, 0.5204,  ..., 0.5191, 0.5186, 0.5198],\n",
       "          [0.5167, 0.5149, 0.5169,  ..., 0.5165, 0.5187, 0.5168],\n",
       "          ...,\n",
       "          [0.5207, 0.5195, 0.5203,  ..., 0.5187, 0.5176, 0.5189],\n",
       "          [0.5183, 0.5201, 0.5178,  ..., 0.5169, 0.5178, 0.5169],\n",
       "          [0.5192, 0.5184, 0.5179,  ..., 0.5178, 0.5182, 0.5182]]]],\n",
       "       grad_fn=<SigmoidBackward>)"
      ]
     },
     "execution_count": 23,
     "metadata": {},
     "output_type": "execute_result"
    }
   ],
   "source": [
    "decoder(out)"
   ]
  },
  {
   "cell_type": "markdown",
   "metadata": {},
   "source": [
    "# M-Model"
   ]
  },
  {
   "cell_type": "code",
   "execution_count": 80,
   "metadata": {},
   "outputs": [],
   "source": [
    "class MModel(nn.Module):\n",
    "    def __init__(self, action_size, latent_size=32, hidden_size=256, batch_size=64, n_gaussians=5, rnn_type=\"LSTM\"):\n",
    "        super(MModel, self).__init__()\n",
    "        \n",
    "        self.input_shape = action_size+latent_size\n",
    "        self.action_size = action_size\n",
    "        self.latent_size = latent_size\n",
    "        self.n_gaussians = n_gaussians\n",
    "        self.batch_size = batch_size\n",
    "        \n",
    "        if rnn_type == \"LSTM\":\n",
    "            self.rnn_layer = nn.LSTM(self.input_shape, hidden_size, batch_first=True)\n",
    "        elif rnn_type == \"GRU\":\n",
    "            self.rnn_layer = nn.GRU(self.input_shape, hidden_size, batch_first=True)\n",
    "            \n",
    "        self.pi_layer = nn.Linear(hidden_size, n_gaussians*latent_size)\n",
    "        self.mu_layer = nn.Linear(hidden_size, n_gaussians*latent_size)\n",
    "        self.sig_layer = nn.Linear(hidden_size, n_gaussians*latent_size)\n",
    "        \n",
    "        \n",
    "    def forward(self, latent_vector: torch.Tensor, action:torch.Tensor, hidden_state=None)-> torch.Tensor:\n",
    "        \"\"\" Simple forward pass with the RNN \"\"\"\n",
    "        \n",
    "        assert latent_vector.shape == (latent_vector.shape[0], self.latent_size), \"Latent vector has the wrong shape!\"\n",
    "        assert action.shape == (action.shape[0], self.action_size), \"Action batch has the wrong shape!\"\n",
    "        \n",
    "        input_tensor = torch.cat((latent_vector, action),dim=1).unsqueeze(1)\n",
    "        assert input_tensor.shape == (action.shape[0], 1, self.input_shape), \"input_tensor has wrong shape!\"\n",
    "        \n",
    "        output, hidden_state = self.rnn_layer(input_tensor, hidden_state)\n",
    "        \n",
    "        (pi, mu, sigma) = self.get_gauss_coeffs(output)\n",
    "        return (pi, mu, sigma), hidden_state\n",
    "    \n",
    "    \n",
    "    def get_gauss_coeffs(self, y:torch.Tensor):\n",
    "        \n",
    "        rollout_length = y.size(1)\n",
    "        \n",
    "        pi = self.pi_layer(y)\n",
    "        mu = self.mu_layer(y)\n",
    "        sigma = self.sig_layer(y)\n",
    "        \n",
    "        pi = pi.view(-1, rollout_length, self.n_gaussians, self.latent_size)\n",
    "        mu = mu.view(-1, rollout_length, self.n_gaussians, self.latent_size)\n",
    "        sigma = sigma.view(-1, rollout_length, self.n_gaussians, self.latent_size)\n",
    "        \n",
    "        pi = F.softmax(pi, 2)\n",
    "        sigma = torch.exp(sigma)\n",
    "        return pi, mu, sigma\n",
    "    \n",
    "    def predict_next_z(self,latent_vector: torch.Tensor, action:torch.Tensor, tau: float, hidden_state=None)-> torch.Tensor:\n",
    "        \"\"\" Predicts the next Latent Vector Z \"\"\"\n",
    "        values, hidden_state = self.forward(latent_vector, action, hidden_state)\n",
    "        mu, sigma = values[1], values[2]\n",
    "        \n",
    "        dist = Normal(mu, sigma*tau)\n",
    "        z_ = dist.sample().mean(2)\n",
    "        print(z_.shape)\n",
    "        \n",
    "        prediction = [torch.normal(mu, sigma)[:, :, i, :] for i in range(self.n_gaussians)]\n",
    "        return prediction, hidden_state\n",
    "        \n",
    "# M-Model loss calculation\n",
    "def mdn_loss_fn(y, pi, mu, sigma):\n",
    "    m = Normal(loc=mu, scale=sigma)\n",
    "    loss = torch.exp(m.log_prob(y))\n",
    "    loss = torch.sum(loss * pi, dim=2)\n",
    "    loss = -torch.log(loss)\n",
    "    return loss.mean()\n",
    "\n",
    "\n",
    "def criterion(y, pi, mu, sigma):\n",
    "    y = y.unsqueeze(2)\n",
    "    return mdn_loss_fn(y, pi, mu, sigma)"
   ]
  },
  {
   "cell_type": "code",
   "execution_count": 81,
   "metadata": {},
   "outputs": [],
   "source": [
    "m_model = MModel(action_size=4)"
   ]
  },
  {
   "cell_type": "code",
   "execution_count": null,
   "metadata": {},
   "outputs": [],
   "source": []
  },
  {
   "cell_type": "code",
   "execution_count": 82,
   "metadata": {},
   "outputs": [],
   "source": [
    "action = torch.ones((1,4))\n",
    "z, hidden = m_model(out, action)"
   ]
  },
  {
   "cell_type": "code",
   "execution_count": 83,
   "metadata": {},
   "outputs": [
    {
     "name": "stdout",
     "output_type": "stream",
     "text": [
      "torch.Size([1, 1, 32])\n"
     ]
    }
   ],
   "source": [
    "z_, h = m_model.predict_next_z(out, action, None)"
   ]
  },
  {
   "cell_type": "code",
   "execution_count": 71,
   "metadata": {},
   "outputs": [
    {
     "data": {
      "text/plain": [
       "torch.Size([1, 1, 32])"
      ]
     },
     "execution_count": 71,
     "metadata": {},
     "output_type": "execute_result"
    }
   ],
   "source": [
    "z_[4].shape"
   ]
  },
  {
   "cell_type": "code",
   "execution_count": null,
   "metadata": {},
   "outputs": [],
   "source": []
  }
 ],
 "metadata": {
  "kernelspec": {
   "display_name": "Python 3",
   "language": "python",
   "name": "python3"
  },
  "language_info": {
   "codemirror_mode": {
    "name": "ipython",
    "version": 3
   },
   "file_extension": ".py",
   "mimetype": "text/x-python",
   "name": "python",
   "nbconvert_exporter": "python",
   "pygments_lexer": "ipython3",
   "version": "3.7.4"
  }
 },
 "nbformat": 4,
 "nbformat_minor": 4
}
